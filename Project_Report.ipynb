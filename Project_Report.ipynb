{
  "cells": [
    {
      "cell_type": "markdown",
      "metadata": {
        "id": "ID5wnHsxWXSq"
      },
      "source": [
        "# **Project Report**"
      ]
    },
    {
      "cell_type": "markdown",
      "metadata": {
        "id": "wKKnHhDqIm8K"
      },
      "source": [
        "## **1. Title Page**\n",
        "**Project Title:** Pet Adoption and Rescue Management System  \n",
        "**Prepared by:** Abhijeet & Rohan Jha  \n",
        "**Roll Number:** 055002 & 055057  \n",
        "**Group Number:** 19  \n",
        "**Institution/Organization:** Fore School of Management  \n",
        "**Supervisor/Guide:** Prof. AmarnathAmarnath Mitra  \n"
      ]
    },
    {
      "cell_type": "markdown",
      "metadata": {
        "id": "prgGbck_Im1i"
      },
      "source": [
        "---\n",
        "\n",
        "## **2. Introduction & Objectives**\n",
        "### **2.1 Introduction**\n",
        "The **Pet Adoption and Rescue Management System** is designed to streamline and manage the adoption and rescue process of pets. The system ensures structured storage of pet, adopter, rescuer, and foster home details while automating key processes such as adoption tracking, occupancy management, and medical records maintenance.\n",
        "\n",
        "### **2.2 Problem Statement**\n",
        "Traditional pet adoption and rescue processes suffer from **inefficient record management, difficulty in tracking pet history, and lack of automation**. Manual data handling leads to errors, misplaced records, and delays in adoption procedures. This project addresses these challenges by developing a structured **database-driven solution** that ensures efficiency, integrity, and automation in the pet adoption workflow.\n",
        "\n",
        "### **2.3 Objectives**\n",
        "- Design and implement a **structured database schema** for efficient pet adoption and rescue tracking.\n",
        "- Develop an **Entity-Relationship Diagram (ERD)** to map database relationships clearly.\n",
        "- Implement **CRUD operations, triggers, and data retrieval scripts** for automation and integrity enforcement.\n",
        "- Perform **data normalization** to optimize database efficiency and avoid redundancy.\n",
        "- Enforce **constraints and foreign keys** to maintain data consistency.\n",
        "- Conduct **stress testing** to evaluate system performance.\n",
        "\n",
        "### **2.4 Scope of the Project**\n",
        "The system includes:\n",
        "- **Pet Registration & Adoption Management**\n",
        "- **Foster Home & Occupancy Tracking**\n",
        "- **Medical Records Maintenance**\n",
        "- **Triggers & Automation for Data Consistency**\n",
        "- **Normalization & Constraints Implementation**\n",
        "- **Performance Testing & Query Optimization**\n",
        "- **Customer Feedback Management & Delivery Tracking**\n",
        "\n",
        "---\n"
      ]
    },
    {
      "cell_type": "markdown",
      "metadata": {
        "id": "d7GQf1esImuy"
      },
      "source": [
        "## **3. Implementation Summary**\n",
        "\n",
        "### **3.1 Summary Table of Database Operations**\n",
        "| **Category** | **Task** | **Did We Do It?** |\n",
        "|-------------|---------|------------------|\n",
        "| **DDL: CREATE** | Created tables using `CREATE TABLE` | ✅ **Yes** |\n",
        "| **DDL: ALTER** | Add/Remove Columns | ✅ **Yes** |\n",
        "| | Modify Data Types & Size | ✅ **Yes** |\n",
        "| | Add/Remove Constraints | ✅ **Yes** |\n",
        "| | Rename Table/Columns | ✅ **Yes** |\n",
        "| **DML: INSERT** | Inserted records using `INSERT INTO` | ✅ **Yes** |\n",
        "| **DQL: SELECT** | Retrieved data using `SELECT` queries | ✅ **Yes** |\n",
        "| **Normalization** | Implemented 1NF, 2NF, 3NF | ✅ **Yes** |\n",
        "| **Constraints & Foreign Keys** | Added CHECK constraints and foreign keys | ✅ **Yes** |\n",
        "| **Triggers** | Implemented automatic updates and integrity constraints | ✅ **Yes** |\n",
        "| | Automated adoption date updates | ✅ **Yes** |\n",
        "| | Auto-update foster home occupancy | ✅ **Yes** |\n",
        "| | Prevent deletion of foster homes with active pets | ✅ **Yes** |\n",
        "| | Cascade delete for medical records and rescuers | ✅ **Yes** |\n",
        "| **Indexing & Performance Optimization** | Created indexes for faster queries | ✅ **Yes** |\n",
        "| **CRUD Operations** | Performed Create, Read, Update, Delete queries | ✅ **Yes** |\n",
        "| **Stress Testing** | Verified database performance under load | ✅ **Yes** |\n",
        "\n"
      ]
    },
    {
      "cell_type": "markdown",
      "metadata": {
        "id": "22yV1PT9Imn0"
      },
      "source": [
        "\n",
        "## **4. Database Schema Design & ERD**\n",
        "### **4.1 Schema Creation**\n",
        "For the **Pet Adoption and Rescue Management System**, the following schema was initially designed:\n",
        "\n",
        "#### **1. Pets Table**\n",
        "- Stores information about the pets available for adoption or in rescue.\n",
        "- **Columns:** PetID (PK), Name, Species, Breed, Age, Gender, Status, RescueDate, AdoptionDate, MedicalRecordID (FK), FosterHomeID (FK).\n",
        "\n",
        "#### **2. FosterHomes Table**\n",
        "- Stores information about foster homes caring for rescued pets.\n",
        "- **Columns:** FosterHomeID (PK), Name, Address, ContactPerson, ContactPhone, Capacity, CurrentOccupancy.\n",
        "\n",
        "#### **3. Adopters Table**\n",
        "- Stores details about people who have adopted pets.\n",
        "- **Columns:** AdopterID (PK), Name, Email, Phone, Address, AdoptionDate, PetID (FK).\n",
        "\n",
        "#### **4. MedicalRecords Table**\n",
        "- Stores medical history and records for each pet.\n",
        "- **Columns:** MedicalRecordID (PK), PetID (FK), VaccinationDate, DiseaseHistory, IsVaccinated, Notes.\n",
        "\n",
        "#### **5. Rescuers Table**\n",
        "- Stores details of individuals or organizations involved in rescuing pets.\n",
        "- **Columns:** RescuerID (PK), Name, Phone, Organization, PetID (FK), RescueDate.\n",
        "\n",
        "\n"
      ]
    },
    {
      "cell_type": "markdown",
      "metadata": {},
      "source": [
        "_Image of 1st Schema_\n",
        "![First Schema](ERD%20FurEver%20Home.png)"
      ]
    },
    {
      "cell_type": "markdown",
      "metadata": {
        "id": "MltFavN6JsBF"
      },
      "source": [
        "\n",
        "### **4.2 Schema Evolution Over Time**\n",
        "As the project progressed, normalization and improvements led to additional tables:\n",
        "\n",
        "#### **6. Species Table**\n",
        "- Created to normalize species data and remove redundancy from the Pets table.\n",
        "- **Columns:** SpeciesID (PK), SpeciesName (Unique, NOT NULL).\n",
        "- **Change:** `Pets.Species` was replaced with `Pets.SpeciesID` (FK to Species table).\n",
        "\n",
        "#### **7. ContactDetails Table**\n",
        "- Created to store contact details separately for better normalization.\n",
        "- **Columns:** ContactID (PK), ContactPerson, ContactPhone (Unique).\n",
        "- **Change:** `FosterHomes.ContactPerson` and `FosterHomes.ContactPhone` moved to ContactDetails.\n",
        "\n",
        "#### **8. CustomerFeedback Table**\n",
        "- Captures user feedback about the adoption process.\n",
        "- **Columns:** FeedbackID (PK), AdopterID (FK), Comments, Rating.\n",
        "\n",
        "#### **9. Delivery Table**\n",
        "- Tracks pet deliveries or home visits.\n",
        "- **Columns:** DeliveryID (PK), AdopterID (FK), PetID (FK), DeliveryDate, Status.\n"
      ]
    },
    {
      "cell_type": "markdown",
      "metadata": {
        "id": "CGin0EsbJ3Jq"
      },
      "source": [
        "_Image of Final Schema_\n",
        "![Final Schema](ERD%20FurEver%20Home%20-%20Evolution%201.png)"
      ]
    },
    {
      "cell_type": "markdown",
      "metadata": {
        "id": "UPeCcPnwJ3zg"
      },
      "source": [
        "\n",
        "### **4.3 Relationships (Ensuring No Many-to-Many)**\n",
        "\n",
        "1. Pets → MedicalRecords → OnetoOne (MedicalRecordID is FK in Pets).\n",
        "2. Pets → FosterHomes → ManytoOne (FosterHomeID is FK in Pets).  \n",
        "3. Pets → Adopters → OnetoOne (PetID is FK in Adopters).  \n",
        "4. Pets → Rescuers → OnetoOne (PetID is FK in Rescuers).  \n",
        "5. Pets → PetSpecies → ManytoOne (SpeciesID is FK in Pets).  \n",
        "6. FosterHomes → ContactDetails → ManytoOne (ContactID is FK in FosterHomes).  \n",
        "7. CustomerFeedback → Adopters → ManytoOne (AdopterID is FK in CustomerFeedback).  \n",
        "\n",
        "\n",
        "---"
      ]
    },
    {
      "cell_type": "markdown",
      "metadata": {
        "id": "yoIHu_UDImgE"
      },
      "source": [
        "\n",
        "## **5. Data Normalization & Constraints Implementation**\n",
        "### **5.1 Normalization Process**\n",
        "- **1NF:** Ensured atomicity by eliminating duplicate and multi-valued attributes.\n",
        "- **2NF:** Removed partial dependencies by splitting redundant data into separate tables.\n",
        "- **3NF:** Removed transitive dependencies to improve database integrity.\n",
        "- **Further Normalization:** Moved species into a separate table (`Species`), and extracted additional contact information into `ContactDetails`.\n",
        "\n",
        "### **5.2 Constraints & Foreign Keys**\n",
        "- Added **CHECK constraints** for validation (e.g., `chk_pet_age`, `chk_capacity`).\n",
        "- Implemented **foreign key constraints** to enforce relational integrity.\n",
        "- Ensured **automatic population of tables** like `Species` to prevent data inconsistencies.\n",
        "\n",
        "---"
      ]
    },
    {
      "cell_type": "markdown",
      "metadata": {
        "id": "zapmPUfFYxyp"
      },
      "source": [
        "*Here is detailed documentation of all the scripts link to documentation*\n",
        "\n",
        "[SQL Script Documentation](SQL%20Script%20Documentation.md)"
      ]
    },
    {
      "cell_type": "markdown",
      "metadata": {
        "id": "kahlPXCXY3T2"
      },
      "source": [
        "*Here are results of all the queries with output*\n",
        "\n",
        "[SQL Execution Outputs](SQL_Execution_Report.ipynb)"
      ]
    },
    {
      "cell_type": "markdown",
      "metadata": {
        "id": "07gDNh43ImWr"
      },
      "source": [
        "## **6. Conclusion**\n",
        "This project successfully designed and implemented a **Pet Adoption and Rescue Management System** with a structured relational database. It optimized performance using **normalization, indexing, constraints, and stress testing**, ensuring efficient handling of pet adoption records, foster home tracking, and automated workflows."
      ]
    },
    {
      "cell_type": "markdown",
      "metadata": {
        "id": "VZMc-z3UImKs"
      },
      "source": [
        "\n",
        "---\n",
        "\n",
        "## **7. References & Acknowledgments**\n",
        "[List all references, citations, and acknowledgments for contributions to the project.]\n",
        "\n",
        "---\n",
        "\n",
        "**End of Report**"
      ]
    }
  ],
  "metadata": {
    "colab": {
      "provenance": []
    },
    "kernelspec": {
      "display_name": "Python 3",
      "name": "python3"
    },
    "language_info": {
      "name": "python"
    }
  },
  "nbformat": 4,
  "nbformat_minor": 0
}
